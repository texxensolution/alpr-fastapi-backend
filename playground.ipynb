{
 "cells": [
  {
   "cell_type": "code",
   "execution_count": 1,
   "metadata": {},
   "outputs": [
    {
     "name": "stdout",
     "output_type": "stream",
     "text": [
      "plate='Y0V029' ch_code='01RBA2404-4' endo_date='2024-04-03' client='ROB AUTO' car_model='2022 MITSUBISHI XPANDER CROSS AT' plate_number_normalized='Y0V029'\n"
     ]
    }
   ],
   "source": [
    "from utils.account_status import AccountStatus\n",
    "\n",
    "account_status = AccountStatus('accounts.csv')\n",
    "\n",
    "row = account_status.get_account_info_by_plate('Y0V029')\n",
    "\n",
    "print(row)"
   ]
  },
  {
   "cell_type": "code",
   "execution_count": 3,
   "metadata": {},
   "outputs": [
    {
     "data": {
      "text/plain": [
       "True"
      ]
     },
     "execution_count": 3,
     "metadata": {},
     "output_type": "execute_result"
    }
   ],
   "source": [
    "from utils.is_similar_plate import is_similar_plate\n",
    "\n",
    "plate1 = \"ABC1234\"\n",
    "plate2 = \"ABC123\"\n",
    "\n",
    "is_similar_plate(plate1, plate2)"
   ]
  },
  {
   "cell_type": "code",
   "execution_count": null,
   "metadata": {},
   "outputs": [],
   "source": [
    "from lark.token_manager import TokenManager\n",
    "import os\n",
    "from dotenv import load_dotenv\n",
    "\n",
    "load_dotenv()\n",
    "\n",
    "chopper_app_id = os.getenv('CHOPPER_APP_ID')\n",
    "chopper_app_secret = os.getenv('CHOPPER_APP_SECRET')\n",
    "\n",
    "token_manager = TokenManager(app_id=chopper_app_id, app_secret=chopper_app_secret)\n",
    "\n",
    "tenant_token = token_manager.get_tenant_access_token_sync()"
   ]
  },
  {
   "cell_type": "code",
   "execution_count": null,
   "metadata": {},
   "outputs": [],
   "source": [
    "from utils.get_group_members import get_group_members\n",
    "\n",
    "members = get_group_members(tenant_token.tenant_access_token)"
   ]
  },
  {
   "cell_type": "code",
   "execution_count": null,
   "metadata": {},
   "outputs": [],
   "source": []
  },
  {
   "cell_type": "code",
   "execution_count": 2,
   "metadata": {},
   "outputs": [
    {
     "name": "stdout",
     "output_type": "stream",
     "text": [
      "   total_requests               name current_date\n",
      "0               3  CALIXTO MALLORCA    2024-12-05\n",
      "1               6             Jerome   2024-12-05\n",
      "2              32      Julius Tuliao   2024-12-05\n",
      "3               4  calixto Mallorca    2024-12-05\n",
      "4              16             jerome   2024-12-05\n",
      "5               1               null   2024-12-05\n"
     ]
    }
   ],
   "source": [
    "import pandas as pd\n",
    "from database.database import engine\n",
    "\n",
    "\n",
    "df = pd.read_sql(\n",
    "    \"\"\"\n",
    "        SELECT count(name) as total_requests, name, current_date FROM logs\n",
    "        WHERE current_date = DATE('now')\n",
    "        GROUP BY name\n",
    "    \"\"\",\n",
    "    con=engine\n",
    ")\n",
    "\n",
    "print(df)\n"
   ]
  },
  {
   "cell_type": "code",
   "execution_count": null,
   "metadata": {},
   "outputs": [
    {
     "name": "stdout",
     "output_type": "stream",
     "text": [
      "{\n",
      "    \"code\": 0,\n",
      "    \"data\": {\n",
      "        \"body\": {\n",
      "            \"content\": \"{\\\"text\\\":\\\"test notification for buzz. kindly disregard tenk u\\\"}\"\n",
      "        },\n",
      "        \"chat_id\": \"oc_b61235e79bac3d17d9107433e8267154\",\n",
      "        \"create_time\": \"1733123840768\",\n",
      "        \"deleted\": false,\n",
      "        \"message_id\": \"om_a5aa991b5636a59ad99782d13dafb06f\",\n",
      "        \"msg_type\": \"text\",\n",
      "        \"sender\": {\n",
      "            \"id\": \"cli_a6889e23ee38500a\",\n",
      "            \"id_type\": \"app_id\",\n",
      "            \"sender_type\": \"app\",\n",
      "            \"tenant_key\": \"12f9cd33134f1759\"\n",
      "        },\n",
      "        \"update_time\": \"1733123840768\",\n",
      "        \"updated\": false\n",
      "    },\n",
      "    \"msg\": \"success\"\n",
      "}\n"
     ]
    }
   ],
   "source": [
    "\n",
    "    "
   ]
  },
  {
   "cell_type": "code",
   "execution_count": null,
   "metadata": {},
   "outputs": [
    {
     "name": "stdout",
     "output_type": "stream",
     "text": [
      "chat_id om_0bb2f940bc3383fde466424fc7d1dd31\n",
      "https://open.larksuite.com/open-apis/im/v1/messages/om_0bb2f940bc3383fde466424fc7d1dd31/urgent_app\n",
      "b'{\"code\":0,\"data\":{\"invalid_user_id_list\":[]},\"msg\":\"success\"}'\n"
     ]
    }
   ],
   "source": [
    "from typing import List\n",
    "\n",
    "print('chat_id', message.data.message_id)\n",
    "\n",
    "def buzz_this_message(\n",
    "    tenant_token: str,\n",
    "    message_id: str,\n",
    "    group_members_union_id: List[str]\n",
    "):\n",
    "    formatted_url = \"https://open.larksuite.com/open-apis/im/v1/messages/{message_id}/urgent_app\".format(message_id=message_id)\n",
    "\n",
    "    headers = {\n",
    "        \"Authorization\": f\"Bearer {tenant_token}\"\n",
    "    }\n",
    "\n",
    "    params = {\n",
    "        \"user_id_type\": \"union_id\"\n",
    "    }\n",
    "\n",
    "    body = {\n",
    "        \"user_id_list\": group_members_union_id\n",
    "    }\n",
    "    \n",
    "    response = requests.patch(\n",
    "        url=formatted_url, \n",
    "        json=body, \n",
    "        headers=headers, \n",
    "        params=params\n",
    "    )\n",
    "\n",
    "\n",
    "members = get_group_members(\n",
    "    tenant_access_token=tenant_token.tenant_access_token,\n",
    ")\n",
    "\n",
    "members = [member.member_id for member in members.data.items]\n",
    "\n",
    "buzz_this_message(\n",
    "    tenant_token=tenant_token.tenant_access_token,\n",
    "    message_id=message.data.message_id,\n",
    "    group_members_union_id=members\n",
    ")"
   ]
  },
  {
   "cell_type": "code",
   "execution_count": 31,
   "metadata": {},
   "outputs": [],
   "source": [
    "import requests\n",
    "import os\n",
    "from typing import Literal, Optional\n",
    "from pydantic import BaseModel\n",
    "\n",
    "\n",
    "class UploadImageMessageDataField(BaseModel):\n",
    "    image_key: str\n",
    "\n",
    "\n",
    "class UploadImageMessageResponse(BaseModel):\n",
    "    code: int\n",
    "    msg: str\n",
    "    data: Optional[UploadImageMessageDataField] = None\n",
    "\n",
    "\n",
    "MAX_SIZE_MB = 10\n",
    "\n",
    "def upload_image_gc(\n",
    "    tenant_token: str,\n",
    "    image_path: str,\n",
    "    image_type: Literal['avatar', 'message'] = 'message'\n",
    "):\n",
    "    url = \"https://open.larksuite.com/open-apis/im/v1/images\"\n",
    "\n",
    "    # Check if file exists\n",
    "    if not os.path.isfile(image_path):\n",
    "        raise FileNotFoundError(f\"The file '{image_path}' does not exist.\")\n",
    "\n",
    "    # Check file size\n",
    "    file_size = os.path.getsize(image_path)\n",
    "    if file_size > MAX_SIZE_MB * 1024 * 1024:\n",
    "        raise ValueError(f\"Image size exceeds {MAX_SIZE_MB}MB limit.\")\n",
    "\n",
    "     # Prepare headers\n",
    "    headers = {\n",
    "        \"Authorization\": f\"Bearer {tenant_token}\",\n",
    "    }\n",
    "\n",
    "    # Prepare multipart/form-data\n",
    "    with open(image_path, 'rb') as image_file:\n",
    "        files = {\n",
    "            \"image\": (os.path.basename(image_path), image_file, \"application/octet-stream\"),\n",
    "        }\n",
    "\n",
    "        data = {\n",
    "            \"image_type\": image_type\n",
    "        }\n",
    "\n",
    "        try:\n",
    "            response = requests.post(\n",
    "                url, \n",
    "                headers=headers, \n",
    "                files=files, \n",
    "                data=data\n",
    "            )\n",
    "\n",
    "            return UploadImageMessageResponse(**response.json())\n",
    "        except requests.exceptions.RequestException as e:\n",
    "            raise Exception(f\"HTTP request failed: {e}\")"
   ]
  },
  {
   "cell_type": "code",
   "execution_count": null,
   "metadata": {},
   "outputs": [
    {
     "ename": "NameError",
     "evalue": "name 'upload_image_gc' is not defined",
     "output_type": "error",
     "traceback": [
      "\u001b[0;31m---------------------------------------------------------------------------\u001b[0m",
      "\u001b[0;31mNameError\u001b[0m                                 Traceback (most recent call last)",
      "Cell \u001b[0;32mIn[10], line 1\u001b[0m\n\u001b[0;32m----> 1\u001b[0m \u001b[38;5;28mprint\u001b[39m(\u001b[43mupload_image_gc\u001b[49m(\n\u001b[1;32m      2\u001b[0m     tenant_token\u001b[38;5;241m=\u001b[39mtenant_token\u001b[38;5;241m.\u001b[39mtenant_access_token,\n\u001b[1;32m      3\u001b[0m     image_path\u001b[38;5;241m=\u001b[39m\u001b[38;5;124m'\u001b[39m\u001b[38;5;124muploads/6cf052b8-6409-4955-bb96-28ead346238e-image.jpg\u001b[39m\u001b[38;5;124m'\u001b[39m\n\u001b[1;32m      4\u001b[0m ))\n",
      "\u001b[0;31mNameError\u001b[0m: name 'upload_image_gc' is not defined"
     ]
    }
   ],
   "source": []
  },
  {
   "cell_type": "code",
   "execution_count": 18,
   "metadata": {},
   "outputs": [
    {
     "name": "stdout",
     "output_type": "stream",
     "text": [
      "1733673600000\n"
     ]
    }
   ],
   "source": [
    "from datetime import datetime, date\n",
    "\n",
    "# Get today's date\n",
    "today = date.today()\n",
    "\n",
    "# Convert today's date to a datetime object (with time set to 00:00:00)\n",
    "today_datetime = datetime.combine(today, datetime.min.time())\n",
    "\n",
    "# Get the integer timestamp (seconds since Unix epoch)\n",
    "timestamp = int(today_datetime.timestamp()) * 1000\n",
    "\n",
    "print(timestamp)\n"
   ]
  },
  {
   "cell_type": "code",
   "execution_count": null,
   "metadata": {},
   "outputs": [],
   "source": [
    "\n",
    "# )"
   ]
  },
  {
   "cell_type": "code",
   "execution_count": null,
   "metadata": {},
   "outputs": [],
   "source": []
  }
 ],
 "metadata": {
  "kernelspec": {
   "display_name": ".venv",
   "language": "python",
   "name": "python3"
  },
  "language_info": {
   "codemirror_mode": {
    "name": "ipython",
    "version": 3
   },
   "file_extension": ".py",
   "mimetype": "text/x-python",
   "name": "python",
   "nbconvert_exporter": "python",
   "pygments_lexer": "ipython3",
   "version": "3.12.3"
  }
 },
 "nbformat": 4,
 "nbformat_minor": 2
}
