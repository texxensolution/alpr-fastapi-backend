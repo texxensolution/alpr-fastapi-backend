{
 "cells": [
  {
   "cell_type": "code",
   "execution_count": 1,
   "metadata": {},
   "outputs": [
    {
     "name": "stdout",
     "output_type": "stream",
     "text": [
      "plate='Y0V029' ch_code='01RBA2404-4' endo_date='4/3/24' client='ROB AUTO' car_model='2022 MITSUBISHI XPANDER CROSS AT' plate_number_normalized='Y0V029'\n"
     ]
    }
   ],
   "source": [
    "from utils.account_status import AccountStatus\n",
    "\n",
    "account_status = AccountStatus('accounts.csv')\n",
    "\n",
    "row = account_status.get_account_info_by_plate('Y0V029')\n",
    "\n",
    "print(row)"
   ]
  },
  {
   "cell_type": "code",
   "execution_count": null,
   "metadata": {},
   "outputs": [],
   "source": [
    "from utils.is_similar_plate import is_similar_plate\n",
    "\n",
    "plate1 = \"ABC1234\"\n",
    "plate2 = \"ABC123\"\n",
    "\n",
    "is_similar_plate(plate1, plate2)"
   ]
  }
 ],
 "metadata": {
  "kernelspec": {
   "display_name": ".venv",
   "language": "python",
   "name": "python3"
  },
  "language_info": {
   "codemirror_mode": {
    "name": "ipython",
    "version": 3
   },
   "file_extension": ".py",
   "mimetype": "text/x-python",
   "name": "python",
   "nbconvert_exporter": "python",
   "pygments_lexer": "ipython3",
   "version": "3.12.3"
  }
 },
 "nbformat": 4,
 "nbformat_minor": 2
}
